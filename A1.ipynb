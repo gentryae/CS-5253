{
  "nbformat": 4,
  "nbformat_minor": 0,
  "metadata": {
    "colab": {
      "name": "A1.ipynb",
      "provenance": [],
      "authorship_tag": "ABX9TyNQ41MOhmz1RgErjsAX4749",
      "include_colab_link": true
    },
    "kernelspec": {
      "name": "python3",
      "display_name": "Python 3"
    },
    "language_info": {
      "name": "python"
    }
  },
  "cells": [
    {
      "cell_type": "markdown",
      "metadata": {
        "id": "view-in-github",
        "colab_type": "text"
      },
      "source": [
        "<a href=\"https://colab.research.google.com/github/gentryae/CS-5253/blob/master/A1.ipynb\" target=\"_parent\"><img src=\"https://colab.research.google.com/assets/colab-badge.svg\" alt=\"Open In Colab\"/></a>"
      ]
    },
    {
      "cell_type": "code",
      "execution_count": null,
      "metadata": {
        "id": "jas5mbx7TTP4"
      },
      "outputs": [],
      "source": []
    },
    {
      "cell_type": "markdown",
      "source": [
        "# **US Mass Shooting Violence**"
      ],
      "metadata": {
        "id": "Ji4XF1lYTch-"
      }
    },
    {
      "cell_type": "markdown",
      "source": [
        "This notebook explores trends regarding mass shootings in the US over the past two decades. The goal of this study is to determine:\n",
        "\n",
        "1. When/Where mass shootings are more likely to occur\n",
        "2. The most likely traits of a mass shooter\n",
        "\n",
        "Understanding where future shootings may occur and the characteristics of mass shooters can help the public better protect themselves and the police to better identify and prevent attacks from occuring.\n",
        "\n",
        "## Project Description\n",
        "\n",
        "Mass shooter data is obtained from: https://www.theviolenceproject.org/mass-shooter-database/\n",
        "\n",
        "The dataset contains data on mass shooters and their victims after 1993. Data was collected on when and where the shooting took place, the physical traits of the shooter and victims, and an in depth look at the shooter's mental health and their personal history. It also records what weapon(s) were used in the shooting. \n",
        "\n",
        "## Performance Metrics\n",
        "\n",
        "The model performance will be evaluated using regression performance metrics - mean absolute error, mean squared error, r-squared and adjusted R squared - to show how accurate the model can predict a general area and how often a shooting may occur in. \n"
      ],
      "metadata": {
        "id": "SJYKbsf5Ucdq"
      }
    }
  ]
}